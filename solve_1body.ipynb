{
 "cells": [
  {
   "cell_type": "markdown",
   "id": "a615068e-0874-412d-9958-a0beaa3de88d",
   "metadata": {},
   "source": [
    "必要パッケージのインストール"
   ]
  },
  {
   "cell_type": "code",
   "execution_count": 1,
   "id": "9803aa94-e06a-405a-8a51-6c7955500fa5",
   "metadata": {},
   "outputs": [
    {
     "name": "stdout",
     "output_type": "stream",
     "text": [
      "Defaulting to user installation because normal site-packages is not writeable\n",
      "Requirement already satisfied: numpy in /home/dc1394/.local/lib/python3.10/site-packages (from -r requirements.txt (line 1)) (1.23.5)\n",
      "Requirement already satisfied: scipy in /usr/lib/python3/dist-packages (from -r requirements.txt (line 2)) (1.8.0)\n"
     ]
    }
   ],
   "source": [
    "!pip install -r requirements.txt"
   ]
  },
  {
   "cell_type": "code",
   "execution_count": 2,
   "id": "e1d7453f-1ff2-4c35-9f9d-0fce5d4d8fb3",
   "metadata": {},
   "outputs": [],
   "source": [
    "from typing import Union\n",
    "\n",
    "import numpy as np\n",
    "import scipy"
   ]
  },
  {
   "cell_type": "markdown",
   "id": "a94f70c4-6718-40bd-b977-f67e7f2c10cb",
   "metadata": {},
   "source": [
    "# 実空間一様グリッドの定義"
   ]
  },
  {
   "cell_type": "code",
   "execution_count": 3,
   "id": "bc0663e3-63b2-49b6-8f39-0643df43eb10",
   "metadata": {},
   "outputs": [
    {
     "data": {
      "text/plain": [
       "0.20202020202020243"
      ]
     },
     "execution_count": 3,
     "metadata": {},
     "output_type": "execute_result"
    }
   ],
   "source": [
    "xmin = -10\n",
    "xmax = 10\n",
    "Ngrid = 100\n",
    "x_g = np.linspace(xmin, xmax, Ngrid)\n",
    "dx = x_g[1] - x_g[0]\n",
    "dx"
   ]
  },
  {
   "cell_type": "markdown",
   "id": "6f60b92c-76fb-499f-9e70-cdfb26ce1ccc",
   "metadata": {},
   "source": [
    "# ポテンシャルの定義\n",
    "調和振動子 $V_{ext}(x)=(1/2)m\\omega^2x^2, \\omega=1$とする"
   ]
  },
  {
   "cell_type": "code",
   "execution_count": 4,
   "id": "0b4d0f6a-ef94-4419-b540-6b8f9a4b2c2c",
   "metadata": {},
   "outputs": [],
   "source": [
    "def V_ext(x: Union[np.array, float]):\n",
    "    return 0.5 * x**2"
   ]
  },
  {
   "cell_type": "markdown",
   "id": "f59836f4",
   "metadata": {},
   "source": [
    "# 1体版_ハミルトニアン行列の定義\n",
    "- 差分法にて∇^2を表現する。\n",
    "- グリッドx_gの上で離散化し、波動関数をN_gridのサイズの配列として扱う。"
   ]
  },
  {
   "cell_type": "code",
   "execution_count": 5,
   "id": "3153e518-dc80-41fe-a6eb-867361faeaca",
   "metadata": {},
   "outputs": [
    {
     "name": "stdout",
     "output_type": "stream",
     "text": [
      "[[ 74.5025     -12.25125      0.         ...   0.           0.\n",
      "    0.        ]\n",
      " [-12.25125     72.50270406 -12.25125    ...   0.           0.\n",
      "    0.        ]\n",
      " [  0.         -12.25125     70.54372028 ...   0.           0.\n",
      "    0.        ]\n",
      " ...\n",
      " [  0.           0.           0.         ...  70.54372028 -12.25125\n",
      "    0.        ]\n",
      " [  0.           0.           0.         ... -12.25125     72.50270406\n",
      "  -12.25125   ]\n",
      " [  0.           0.           0.         ...   0.         -12.25125\n",
      "   74.5025    ]]\n"
     ]
    }
   ],
   "source": [
    "H = np.zeros((Ngrid, Ngrid))\n",
    "kin_diag = -0.5 * (-2.0 / dx**2)\n",
    "kin_offdiag = -0.5 * (1.0 / dx**2)\n",
    "for g in range(Ngrid):\n",
    "    H[g, g] = kin_diag + V_ext(x_g[g])\n",
    "    if g > 0:\n",
    "        H[g, g - 1] = kin_offdiag\n",
    "    if g < Ngrid - 1:\n",
    "        H[g, g + 1] = kin_offdiag\n",
    "\n",
    "print(H)"
   ]
  },
  {
   "cell_type": "markdown",
   "id": "51d00cf8",
   "metadata": {},
   "source": [
    "# 対角化"
   ]
  },
  {
   "cell_type": "code",
   "execution_count": 6,
   "id": "3e52312a",
   "metadata": {},
   "outputs": [
    {
     "name": "stdout",
     "output_type": "stream",
     "text": [
      "[ 0.49872134  1.49359344  2.48330408  3.46781212  4.44707534  5.42105032\n",
      "  6.38969245  7.35295586  8.31079332  9.26315623 10.2099945  11.15125653\n",
      " 12.08688908 13.01683721 13.94104418 14.85945137 15.77199815 16.67862177\n",
      " 17.57925724 18.47383721 19.3622918  20.24454845 21.12053175 21.99016325\n",
      " 22.85336125 23.71004059 24.56011238 25.40348372 26.24005745 27.06973173\n",
      " 27.89239975 28.70794926 29.51626211 30.31721378 31.1106727  31.89649967\n",
      " 32.67454707 33.44465797 34.20666521 34.96039022 35.70564175 36.44221441\n",
      " 37.169887   37.88842067 38.59755686 39.29701512 39.98649075 40.66565231\n",
      " 41.33413875 41.99155581 42.63747067 43.27140324 43.89281135 44.50106535\n",
      " 45.09540826 45.67487948 46.23826985 46.78360063 47.30968801 47.80619364\n",
      " 48.29419617 48.66104177 49.21187432 49.31677637 50.1677322  50.17592412\n",
      " 51.24017478 51.24050895 52.4347217  52.43473083 53.74562615 53.74562633\n",
      " 55.17251037 55.17251037 56.71890825 56.71890825 58.39105301 58.39105301\n",
      " 60.19762699 60.19762699 62.15003542 62.15003542 64.26306446 64.26306446\n",
      " 66.55598314 66.55598314 69.05432761 69.05432761 71.79288904 71.79288904\n",
      " 74.82104238 74.82104238 78.21315201 78.21315201 82.09174528 82.09174528\n",
      " 86.6909296  86.6909296  92.61147285 92.61147285]\n",
      "CPU times: user 36 ms, sys: 132 ms, total: 168 ms\n",
      "Wall time: 6.7 ms\n"
     ]
    }
   ],
   "source": [
    "%%time\n",
    "e_i, psi_gi = np.linalg.eigh(H)\n",
    "psi_ig = psi_gi.T\n",
    "print(e_i)  # 固有エネルギー"
   ]
  },
  {
   "cell_type": "markdown",
   "id": "e142809e",
   "metadata": {},
   "source": [
    "# 波動関数のプロット"
   ]
  },
  {
   "cell_type": "code",
   "execution_count": 7,
   "id": "af24cfd3",
   "metadata": {},
   "outputs": [
    {
     "data": {
      "text/plain": [
       "<matplotlib.legend.Legend at 0x7f3bee24e830>"
      ]
     },
     "execution_count": 7,
     "metadata": {},
     "output_type": "execute_result"
    },
    {
     "data": {
      "image/png": "[encoded data removed]",
      "text/plain": [
       "<Figure size 432x288 with 1 Axes>"
      ]
     },
     "metadata": {
      "needs_background": "light"
     },
     "output_type": "display_data"
    }
   ],
   "source": [
    "from matplotlib import pyplot as plt\n",
    "\n",
    "plt.plot(x_g, psi_ig[0], label=\"gs\")\n",
    "plt.plot(x_g, psi_ig[1], label=\"1st excited\")\n",
    "plt.legend()"
   ]
  },
  {
   "cell_type": "markdown",
   "id": "4d1fecdf",
   "metadata": {},
   "source": [
    "# 基底状態と第一励起状態のエネルギー差\n",
    "理論値は $\\hbar\\omega = 1.0$"
   ]
  },
  {
   "cell_type": "code",
   "execution_count": 8,
   "id": "4e129bcb",
   "metadata": {},
   "outputs": [
    {
     "data": {
      "text/plain": [
       "0.9948720991357451"
      ]
     },
     "execution_count": 8,
     "metadata": {},
     "output_type": "execute_result"
    }
   ],
   "source": [
    "e_i[1] - e_i[0]"
   ]
  },
  {
   "cell_type": "markdown",
   "id": "f38b1e8a",
   "metadata": {},
   "source": [
    "# SciPyの疎行列ライブラリを使ってみる"
   ]
  },
  {
   "cell_type": "code",
   "execution_count": 9,
   "id": "146da5ce",
   "metadata": {},
   "outputs": [],
   "source": [
    "from scipy import sparse\n",
    "from scipy.sparse import csr_matrix\n",
    "import scipy.sparse.linalg\n",
    "\n",
    "H_csr = csr_matrix(H)  # Compressed Sparse Row matrix"
   ]
  },
  {
   "cell_type": "code",
   "execution_count": 10,
   "id": "87b1a387",
   "metadata": {
    "scrolled": false
   },
   "outputs": [
    {
     "name": "stdout",
     "output_type": "stream",
     "text": [
      "CPU times: user 13.3 ms, sys: 0 ns, total: 13.3 ms\n",
      "Wall time: 12 ms\n"
     ]
    },
    {
     "data": {
      "text/plain": [
       "0.9948720991357463"
      ]
     },
     "execution_count": 10,
     "metadata": {},
     "output_type": "execute_result"
    }
   ],
   "source": [
    "%%time\n",
    "es_i, psis_gi = scipy.sparse.linalg.eigsh(H_csr, k=10, which=\"SM\")\n",
    "psis_ig = psis_gi.T\n",
    "es_i[1] - es_i[0]"
   ]
  },
  {
   "cell_type": "markdown",
   "id": "03ba0bbc",
   "metadata": {},
   "source": [
    "sparseライブラリを使ったほうが圧倒的に早いことがわかる。\n",
    "sparseの有無で波動関数の形を比較してみる"
   ]
  },
  {
   "cell_type": "code",
   "execution_count": 11,
   "id": "d9d069b9",
   "metadata": {},
   "outputs": [
    {
     "data": {
      "text/plain": [
       "<matplotlib.legend.Legend at 0x7f3bede77d30>"
      ]
     },
     "execution_count": 11,
     "metadata": {},
     "output_type": "execute_result"
    },
    {
     "data": {
      "image/png": "[encoded data removed]",
      "text/plain": [
       "<Figure size 432x288 with 1 Axes>"
      ]
     },
     "metadata": {
      "needs_background": "light"
     },
     "output_type": "display_data"
    }
   ],
   "source": [
    "from matplotlib import pyplot as plt\n",
    "\n",
    "plt.plot(x_g, psi_ig[0], label=\"gs\")\n",
    "plt.plot(x_g, psi_ig[1], label=\"1st excited\")\n",
    "\n",
    "plt.plot(\n",
    "    x_g, psis_ig[0] * -1, label=\"gs sparse * -1\"\n",
    ")  # 位相の違いを打ち消すために-1をかけた\n",
    "plt.plot(x_g, psis_ig[1], label=\"1st excited sparse\")\n",
    "plt.legend()"
   ]
  },
  {
   "cell_type": "markdown",
   "id": "c42f6c22",
   "metadata": {},
   "source": [
    "## (Optional)\n",
    "- xmin, xmaxの値を小さくするとどうなるか\n",
    "- Ngridの値を増減させるとどうなるか\n",
    "- (難) 今回、境界条件は固定端とした。周期境界条件を課すにはどうすればいいか。"
   ]
  },
  {
   "cell_type": "markdown",
   "id": "a46a76c3",
   "metadata": {},
   "source": []
  },
  {
   "cell_type": "code",
   "execution_count": null,
   "id": "671c1d04",
   "metadata": {},
   "outputs": [],
   "source": []
  }
 ],
 "metadata": {
  "kernelspec": {
   "display_name": "Python 3",
   "language": "python",
   "name": "python3"
  },
  "language_info": {
   "codemirror_mode": {
    "name": "ipython",
    "version": 3
   },
   "file_extension": ".py",
   "mimetype": "text/x-python",
   "name": "python",
   "nbconvert_exporter": "python",
   "pygments_lexer": "ipython3",
   "version": "3.10.12"
  }
 },
 "nbformat": 4,
 "nbformat_minor": 5
}
